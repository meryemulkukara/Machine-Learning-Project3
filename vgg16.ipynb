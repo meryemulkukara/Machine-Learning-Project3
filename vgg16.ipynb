{
  "nbformat": 4,
  "nbformat_minor": 0,
  "metadata": {
    "colab": {
      "provenance": []
    },
    "kernelspec": {
      "name": "python3",
      "display_name": "Python 3"
    },
    "language_info": {
      "name": "python"
    }
  },
  "cells": [
    {
      "cell_type": "code",
      "execution_count": null,
      "metadata": {
        "id": "GLPNaUafBgm6",
        "colab": {
          "base_uri": "https://localhost:8080/"
        },
        "outputId": "1a17eaf6-6e18-4010-8333-8ec2cd9c70f2"
      },
      "outputs": [
        {
          "output_type": "stream",
          "name": "stdout",
          "text": [
            "Mounted at /content/drive\n"
          ]
        }
      ],
      "source": [
        "from google.colab import drive\n",
        "drive.mount('/content/drive')\n"
      ]
    },
    {
      "cell_type": "code",
      "source": [
        "import zipfile\n",
        "\n",
        "zip_path_train = '/content/drive/MyDrive/Colab Notebooks/train.zip'\n",
        "zip_path_test = '/content/drive/MyDrive/Colab Notebooks/test.zip'\n",
        "zip_path_validation = '/content/drive/MyDrive/Colab Notebooks/valid.zip'\n",
        "extract_path_train = '/content/drive/MyDrive/Colab Notebooks/'\n",
        "extract_path_test = '/content/drive/MyDrive/Colab Notebooks/'\n",
        "extract_path_validation = '/content/drive/MyDrive/Colab Notebooks/'\n",
        "\n",
        "with zipfile.ZipFile(zip_path_train, 'r') as zip_ref:\n",
        "    zip_ref.extractall(extract_path_train)\n",
        "\n",
        "with zipfile.ZipFile(zip_path_test, 'r') as zip_ref:\n",
        "    zip_ref.extractall(extract_path_test)\n",
        "\n",
        "with zipfile.ZipFile(zip_path_validation, 'r') as zip_ref:\n",
        "    zip_ref.extractall(extract_path_validation)\n"
      ],
      "metadata": {
        "id": "iYIY61sL1apU"
      },
      "execution_count": null,
      "outputs": []
    },
    {
      "cell_type": "code",
      "source": [
        "\n",
        "\n",
        "import os\n",
        "import torch\n",
        "from torchvision import datasets\n",
        "from torchvision.transforms import transforms\n",
        "\n",
        "data_train = '/content/drive/MyDrive/Colab Notebooks/train'\n",
        "data_test = '/content/drive/MyDrive/Colab Notebooks/test'\n",
        "data_valid = '/content/drive/MyDrive/Colab Notebooks/valid'\n",
        "target_size = (224, 224)  # VGG16 ve ResNet50'nin giriş boyutları\n",
        "\n",
        "\n",
        "# Veri dönüştürme işlemleri\n",
        "data_transforms = {\n",
        "    'train': transforms.Compose([\n",
        "        transforms.Resize((224, 224)),  # Giriş boyutuna göre yeniden boyutlandırma\n",
        "        transforms.RandomHorizontalFlip(),  # Rastgele yatay çevirme\n",
        "        transforms.RandomVerticalFlip(),  # Rastgele dikey çevirme\n",
        "        transforms.RandomRotation(10),  # Rastgele döndürme\n",
        "        transforms.ToTensor(),  # Tensor formatına dönüştürme\n",
        "        transforms.Normalize([0.485, 0.456, 0.406], [0.229, 0.224, 0.225])  # Normalizasyon\n",
        "    ]),\n",
        "    'val': transforms.Compose([\n",
        "        transforms.Resize((224, 224)),\n",
        "        transforms.ToTensor(),\n",
        "        transforms.Normalize([0.485, 0.456, 0.406], [0.229, 0.224, 0.225])\n",
        "    ]),\n",
        "    'test': transforms.Compose([\n",
        "        transforms.Resize((224, 224)),\n",
        "        transforms.ToTensor(),\n",
        "        transforms.Normalize([0.485, 0.456, 0.406], [0.229, 0.224, 0.225])\n",
        "    ]),\n",
        "}\n",
        "\n"
      ],
      "metadata": {
        "id": "9z-WBxVv1CwS"
      },
      "execution_count": null,
      "outputs": []
    },
    {
      "cell_type": "code",
      "source": [
        "# Veri yükleyici oluşturma\n",
        "image_datasets = {\n",
        "    'train': datasets.ImageFolder(os.path.join(data_train), data_transforms['train']),\n",
        "    'val': datasets.ImageFolder(os.path.join(data_valid), data_transforms['val']),\n",
        "    #'test': datasets.ImageFolder(os.path.join(data_test, 'test'), data_transforms['test'])\n",
        "}\n",
        "\n",
        "# Veri yükleyicileri oluşturma\n",
        "batch_size = 32\n",
        "dataloaders = {\n",
        "    'train': torch.utils.data.DataLoader(image_datasets['train'], batch_size=batch_size, shuffle=True),\n",
        "    'val': torch.utils.data.DataLoader(image_datasets['val'], batch_size=batch_size),\n",
        "    #'test': torch.utils.data.DataLoader(image_datasets['test'], batch_size=batch_size)\n",
        "}\n"
      ],
      "metadata": {
        "id": "yKu1QBSRh3JD"
      },
      "execution_count": null,
      "outputs": []
    },
    {
      "cell_type": "code",
      "source": [
        "from PIL import Image\n",
        "\n",
        "class TestDatasetFolder(torch.utils.data.Dataset):\n",
        "    def __init__(self, root, transform=None):\n",
        "        self.root = root\n",
        "        self.transform = transform\n",
        "        self.images = os.listdir(self.root)\n",
        "\n",
        "    def __getitem__(self, index):\n",
        "        image_path = os.path.join(self.root, self.images[index])\n",
        "        image = Image.open(image_path)\n",
        "\n",
        "        if self.transform is not None:\n",
        "            image = self.transform(image)\n",
        "\n",
        "        return image, 0  # 0, tüm görüntülerin aynı sınıfa ait olduğunu belirtmek için\n",
        "\n",
        "    def __len__(self):\n",
        "        return len(self.images)\n",
        "\n",
        "test_data_transforms = transforms.Compose([\n",
        "    transforms.Resize((224, 224)),\n",
        "    transforms.ToTensor(),\n",
        "    transforms.Normalize([0.485, 0.456, 0.406], [0.229, 0.224, 0.225])\n",
        "])\n",
        "test_dataset = TestDatasetFolder(data_test, test_data_transforms)\n",
        "test_dataloader = torch.utils.data.DataLoader(test_dataset, batch_size=batch_size)\n"
      ],
      "metadata": {
        "id": "dQMjhJF9iK1n"
      },
      "execution_count": null,
      "outputs": []
    },
    {
      "cell_type": "code",
      "source": [
        "import torch\n",
        "import torchvision.models as models\n",
        "\n",
        "vgg16 = models.vgg16(pretrained=True)\n",
        "\n",
        "resnet50 = models.resnet50(pretrained=True)\n"
      ],
      "metadata": {
        "colab": {
          "base_uri": "https://localhost:8080/"
        },
        "id": "D45pKskriP3W",
        "outputId": "b38d9610-4d5b-400a-cce9-047682be941b"
      },
      "execution_count": null,
      "outputs": [
        {
          "output_type": "stream",
          "name": "stderr",
          "text": [
            "/usr/local/lib/python3.10/dist-packages/torchvision/models/_utils.py:208: UserWarning: The parameter 'pretrained' is deprecated since 0.13 and may be removed in the future, please use 'weights' instead.\n",
            "  warnings.warn(\n",
            "/usr/local/lib/python3.10/dist-packages/torchvision/models/_utils.py:223: UserWarning: Arguments other than a weight enum or `None` for 'weights' are deprecated since 0.13 and may be removed in the future. The current behavior is equivalent to passing `weights=VGG16_Weights.IMAGENET1K_V1`. You can also use `weights=VGG16_Weights.DEFAULT` to get the most up-to-date weights.\n",
            "  warnings.warn(msg)\n",
            "Downloading: \"https://download.pytorch.org/models/vgg16-397923af.pth\" to /root/.cache/torch/hub/checkpoints/vgg16-397923af.pth\n",
            "100%|██████████| 528M/528M [00:05<00:00, 107MB/s] \n",
            "/usr/local/lib/python3.10/dist-packages/torchvision/models/_utils.py:223: UserWarning: Arguments other than a weight enum or `None` for 'weights' are deprecated since 0.13 and may be removed in the future. The current behavior is equivalent to passing `weights=ResNet50_Weights.IMAGENET1K_V1`. You can also use `weights=ResNet50_Weights.DEFAULT` to get the most up-to-date weights.\n",
            "  warnings.warn(msg)\n",
            "Downloading: \"https://download.pytorch.org/models/resnet50-0676ba61.pth\" to /root/.cache/torch/hub/checkpoints/resnet50-0676ba61.pth\n",
            "100%|██████████| 97.8M/97.8M [00:01<00:00, 83.4MB/s]\n"
          ]
        }
      ]
    },
    {
      "cell_type": "code",
      "source": [
        "for param in vgg16.parameters():\n",
        "    param.requires_grad = False\n",
        "\n",
        "for param in resnet50.parameters():\n",
        "    param.requires_grad = False\n",
        "    \n"
      ],
      "metadata": {
        "id": "7zGU986zuF9O"
      },
      "execution_count": null,
      "outputs": []
    },
    {
      "cell_type": "code",
      "source": [
        "num_features = vgg16.classifier[6].in_features  # Get the input feature count of the last fully connected layer of the VGG16 model\n",
        "vgg16.classifier[6] = torch.nn.Linear(num_features, 3)  # Change the output layer assuming it's a 3 class classification\n",
        "\n",
        "num_features = vgg16.classifier[6].in_features  # Get the input feature count of the last fully connected layer of the VGG16 model\n",
        "vgg16.classifier[6] = torch.nn.Linear(num_features, 3)  # Change the output layer assuming it's a 3 class classification\n"
      ],
      "metadata": {
        "id": "zvnVY-rOubCs"
      },
      "execution_count": null,
      "outputs": []
    },
    {
      "cell_type": "code",
      "source": [
        "\n",
        "def calculate_accuracy(model, dataloader):\n",
        "    model.eval()  # model to evaluation\n",
        "    correct = 0\n",
        "    total = 0\n",
        "    device = torch.device('cuda' if torch.cuda.is_available() else 'cpu')\n",
        "    with torch.no_grad():\n",
        "        for images, labels in dataloader:\n",
        "            images = images.to(device)\n",
        "            labels = labels.to(device)  \n",
        "\n",
        "            outputs = model(images)  # model outputs\n",
        "            _, predicted = torch.max(outputs.data, 1)  # pick max val\n",
        "\n",
        "            total += labels.size(0)  \n",
        "            correct += (predicted == labels).sum().item()  \n",
        "\n",
        "    accuracy = 100 * correct / total\n",
        "    return accuracy\n"
      ],
      "metadata": {
        "id": "O84PkJWaNzTW"
      },
      "execution_count": 23,
      "outputs": []
    },
    {
      "cell_type": "code",
      "source": [
        "import torch\n",
        "import torch.nn as nn\n",
        "import torch.optim as optim\n",
        "import matplotlib.pyplot as plt\n",
        "\n",
        "\n",
        "\n",
        "\n",
        "# criterion ve optimizer\n",
        "criterion = nn.CrossEntropyLoss()\n",
        "#optimizer = optim.SGD(vgg16.parameters(), lr=0.001, momentum=momentum)\n",
        "optimizer = optim.Adam(vgg16.parameters(), lr=0.001, betas=(0.9, 0.999))\n",
        "\n",
        "#define device\n",
        "device = torch.device('cuda' if torch.cuda.is_available() else 'cpu')\n",
        "\n",
        "train_accuracy_history_vgg = []\n",
        "test_accuracy_history_vgg = []\n",
        "\n",
        "num_epochs=3\n",
        "# Train\n",
        "for epoch in range(num_epochs):\n",
        "    running_loss = 0.0\n",
        "    correct = 0\n",
        "    total = 0\n",
        "\n",
        "    # For each dataset (training and validation)\n",
        "    for phase in ['train', 'val']:\n",
        "        if phase == 'train': #\n",
        "            vgg16.train()  # the model to training mode\n",
        "        else:\n",
        "            vgg16.eval()   # Modeli değerlendirme moduna geçir\n",
        "\n",
        "        # Veri kümesindeki her bir mini-batch için\n",
        "        for inputs, labels in dataloaders[phase]:\n",
        "            # Move Data GPU\n",
        "            inputs = inputs.to(device)\n",
        "            labels = labels.to(device)\n",
        "\n",
        "            # Zero gradients\n",
        "            optimizer.zero_grad()\n",
        "\n",
        "            # forward\n",
        "            with torch.set_grad_enabled(phase == 'train'):\n",
        "                outputs = vgg16(inputs)\n",
        "                loss = criterion(outputs, labels)\n",
        "\n",
        "                # back and optimizasyon\n",
        "                if phase == 'train':\n",
        "                    loss.backward()\n",
        "                    optimizer.step()\n",
        "\n",
        "            \n",
        "            _, predicted = torch.max(outputs.data, 1)\n",
        "            total += labels.size(0)\n",
        "            correct += (predicted == labels).sum().item()\n",
        "            running_loss += loss.item() * inputs.size(0)\n",
        "\n",
        "    train_accuracy = 100 * correct / total\n",
        "    test_accuracy = calculate_accuracy(vgg16, dataloaders['val'])\n",
        "    train_accuracy_history_vgg.append(train_accuracy)\n",
        "    test_accuracy_history_vgg.append(test_accuracy)\n",
        "\n",
        "    epoch_loss = running_loss / len(dataloaders['train'].dataset)\n",
        "    epoch_accuracy = 100 * correct / total\n",
        "    \n",
        "\n",
        "  \n",
        "    print('Epoch: {}, Loss: {:.4f}, Accuracy: {:.2f}%'.format(epoch+1, epoch_loss, epoch_accuracy))\n",
        "\n",
        "plt.plot(train_accuracy_history_vgg, label='VGG16 - Train Accuracy')\n",
        "plt.plot(test_accuracy_history_vgg, label='VGG16 - Test Accuracy')\n",
        "plt.xlabel('Epok')\n",
        "plt.ylabel('Doğruluk Skoru')\n",
        "plt.legend()\n",
        "plt.show()    \n"
      ],
      "metadata": {
        "id": "TaPZE5n_5gzZ",
        "colab": {
          "base_uri": "https://localhost:8080/",
          "height": 501
        },
        "outputId": "b5dd4317-ef46-4a7d-acfb-4603c2cfa436"
      },
      "execution_count": 24,
      "outputs": [
        {
          "output_type": "stream",
          "name": "stdout",
          "text": [
            "Epoch: 1, Loss: 0.8335, Accuracy: 67.62%\n",
            "Epoch: 2, Loss: 0.8166, Accuracy: 67.80%\n",
            "Epoch: 3, Loss: 0.7964, Accuracy: 69.86%\n"
          ]
        },
        {
          "output_type": "display_data",
          "data": {
            "text/plain": [
              "<Figure size 640x480 with 1 Axes>"
            ],
            "image/png": "[encoded data removed]"
          },
          "metadata": {}
        }
      ]
    },
    {
      "cell_type": "code",
      "source": [
        "import csv\n",
        "\n",
        "# Assuming you have your trained model stored in the 'model' variable\n",
        "# Assuming you have your test dataloader in the 'test_dataloader' variable\n",
        "\n",
        "# Set the model to evaluation mode\n",
        "vgg16.eval()\n",
        "\n",
        "#define device\n",
        "device = torch.device('cuda' if torch.cuda.is_available() else 'cpu')\n",
        "# Make predictions on the test data\n",
        "predictions = []\n",
        "with torch.no_grad():\n",
        "    for images,_ in test_dataloader:\n",
        "        images = images.to(device)\n",
        "        outputs = vgg16(images)\n",
        "        _, predicted_labels = torch.max(outputs, 1)\n",
        "        predictions.extend(predicted_labels.cpu().numpy())\n",
        "\n",
        "# Create a list of dictionaries for each test sample with their predictions\n",
        "results = [{'Prediction': prediction} for prediction in predictions]\n",
        "\n",
        "# Define the path and filename for the CSV file\n",
        "csv_file = 'test_predictions_vgg16.csv'\n",
        "\n",
        "# Write the results to the CSV file\n",
        "with open(csv_file, 'w', newline='') as file:\n",
        "    fieldnames = ['Prediction']\n",
        "    writer = csv.DictWriter(file, fieldnames=fieldnames)\n",
        "    writer.writeheader()\n",
        "    writer.writerows(results)\n",
        "\n",
        "print(f\"Test predictions saved to {csv_file}\")\n"
      ],
      "metadata": {
        "colab": {
          "base_uri": "https://localhost:8080/"
        },
        "id": "6g29pc6PYzMy",
        "outputId": "5c632069-9c69-4d82-9ace-f7fc530be61e"
      },
      "execution_count": 25,
      "outputs": [
        {
          "output_type": "stream",
          "name": "stdout",
          "text": [
            "Test predictions saved to test_predictions_vgg16.csv\n"
          ]
        }
      ]
    }
  ]
}